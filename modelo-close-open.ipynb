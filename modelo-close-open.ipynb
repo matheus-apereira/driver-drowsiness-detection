{
 "cells": [
  {
   "cell_type": "code",
   "execution_count": 48,
   "id": "ef82e651",
   "metadata": {},
   "outputs": [],
   "source": [
    "import numpy as np \n",
    "import pandas as pd\n",
    "import os\n",
    "import cv2\n",
    "import matplotlib.pyplot as plt\n",
    "from sklearn.preprocessing import LabelBinarizer\n",
    "from sklearn.model_selection import train_test_split\n",
    "from tensorflow.keras.layers import Input, Lambda, Dense, Flatten, Conv2D, MaxPooling2D, Dropout\n",
    "from tensorflow.keras.models import Model\n",
    "from tensorflow.keras.models import Sequential\n",
    "from keras.preprocessing.image import ImageDataGenerator\n",
    "import tensorflow as tf\n",
    "import keras\n",
    "from sklearn.metrics import classification_report\n",
    "import time"
   ]
  },
  {
   "cell_type": "code",
   "execution_count": 2,
   "id": "9ded1c76",
   "metadata": {},
   "outputs": [],
   "source": [
    "path_to_images = './archive/train'"
   ]
  },
  {
   "cell_type": "code",
   "execution_count": 3,
   "id": "9ec0f788",
   "metadata": {},
   "outputs": [],
   "source": [
    "haars_cascade_frontal_face = './haarcascade_frontalface_default.xml'"
   ]
  },
  {
   "cell_type": "code",
   "execution_count": 4,
   "id": "31e62809",
   "metadata": {},
   "outputs": [],
   "source": [
    "haars_cascade_eye = './haarcascade_eye.xml'"
   ]
  },
  {
   "cell_type": "code",
   "execution_count": 5,
   "id": "3089da39",
   "metadata": {},
   "outputs": [],
   "source": [
    "labels = os.listdir(path_to_images)"
   ]
  },
  {
   "cell_type": "code",
   "execution_count": 6,
   "id": "0df8720e",
   "metadata": {},
   "outputs": [
    {
     "data": {
      "text/plain": [
       "['Closed', 'Open']"
      ]
     },
     "execution_count": 6,
     "metadata": {},
     "output_type": "execute_result"
    }
   ],
   "source": [
    "labels"
   ]
  },
  {
   "cell_type": "code",
   "execution_count": 10,
   "id": "914a8502",
   "metadata": {},
   "outputs": [
    {
     "name": "stdout",
     "output_type": "stream",
     "text": [
      "elementos Closed - 10 primeiros elementos\n",
      "['_0.jpg', '_1.jpg', '_10.jpg', '_100.jpg', '_101.jpg', '_102.jpg', '_103.jpg', '_104.jpg', '_105.jpg', '_106.jpg']\n",
      "elementos Open - 10 primeiros elementos\n",
      "['_0.jpg', '_1.jpg', '_10.jpg', '_100.jpg', '_101.jpg', '_102.jpg', '_103.jpg', '_104.jpg', '_105.jpg', '_106.jpg']\n"
     ]
    }
   ],
   "source": [
    "for label in labels:\n",
    "    print(f\"elementos {label} - 10 primeiros elementos\")\n",
    "    elements = os.listdir(os.path.join(path_to_images,label))\n",
    "    print(f\"{elements[0:10]}\")"
   ]
  },
  {
   "cell_type": "code",
   "execution_count": 9,
   "id": "0cf05654",
   "metadata": {},
   "outputs": [
    {
     "data": {
      "text/plain": [
       "['_0.jpg',\n",
       " '_1.jpg',\n",
       " '_10.jpg',\n",
       " '_100.jpg',\n",
       " '_101.jpg',\n",
       " '_102.jpg',\n",
       " '_103.jpg',\n",
       " '_104.jpg',\n",
       " '_105.jpg',\n",
       " '_106.jpg',\n",
       " '_107.jpg',\n",
       " '_108.jpg',\n",
       " '_109.jpg',\n",
       " '_11.jpg',\n",
       " '_110.jpg',\n",
       " '_111.jpg',\n",
       " '_112.jpg',\n",
       " '_113.jpg',\n",
       " '_114.jpg',\n",
       " '_115.jpg',\n",
       " '_116.jpg',\n",
       " '_117.jpg',\n",
       " '_118.jpg',\n",
       " '_119.jpg',\n",
       " '_12.jpg',\n",
       " '_120.jpg',\n",
       " '_121.jpg',\n",
       " '_122.jpg',\n",
       " '_123.jpg',\n",
       " '_124.jpg',\n",
       " '_125.jpg',\n",
       " '_126.jpg',\n",
       " '_127.jpg',\n",
       " '_128.jpg',\n",
       " '_129.jpg',\n",
       " '_13.jpg',\n",
       " '_130.jpg',\n",
       " '_131.jpg',\n",
       " '_132.jpg',\n",
       " '_133.jpg',\n",
       " '_134.jpg',\n",
       " '_135.jpg',\n",
       " '_136.jpg',\n",
       " '_137.jpg',\n",
       " '_138.jpg',\n",
       " '_139.jpg',\n",
       " '_14.jpg',\n",
       " '_140.jpg',\n",
       " '_141.jpg',\n",
       " '_142.jpg',\n",
       " '_143.jpg',\n",
       " '_144.jpg',\n",
       " '_145.jpg',\n",
       " '_146.jpg',\n",
       " '_147.jpg',\n",
       " '_148.jpg',\n",
       " '_149.jpg',\n",
       " '_15.jpg',\n",
       " '_150.jpg',\n",
       " '_151.jpg',\n",
       " '_152.jpg',\n",
       " '_153.jpg',\n",
       " '_154.jpg',\n",
       " '_155.jpg',\n",
       " '_156.jpg',\n",
       " '_157.jpg',\n",
       " '_158.jpg',\n",
       " '_159.jpg',\n",
       " '_16.jpg',\n",
       " '_160.jpg',\n",
       " '_161.jpg',\n",
       " '_162.jpg',\n",
       " '_163.jpg',\n",
       " '_164.jpg',\n",
       " '_165.jpg',\n",
       " '_166.jpg',\n",
       " '_167.jpg',\n",
       " '_168.jpg',\n",
       " '_169.jpg',\n",
       " '_17.jpg',\n",
       " '_170.jpg',\n",
       " '_171.jpg',\n",
       " '_172.jpg',\n",
       " '_173.jpg',\n",
       " '_174.jpg',\n",
       " '_175.jpg',\n",
       " '_176.jpg',\n",
       " '_177.jpg',\n",
       " '_178.jpg',\n",
       " '_179.jpg',\n",
       " '_18.jpg',\n",
       " '_180.jpg',\n",
       " '_181.jpg',\n",
       " '_182.jpg',\n",
       " '_183.jpg',\n",
       " '_184.jpg',\n",
       " '_185.jpg',\n",
       " '_186.jpg',\n",
       " '_187.jpg',\n",
       " '_188.jpg',\n",
       " '_189.jpg',\n",
       " '_19.jpg',\n",
       " '_190.jpg',\n",
       " '_191.jpg',\n",
       " '_192.jpg',\n",
       " '_193.jpg',\n",
       " '_194.jpg',\n",
       " '_195.jpg',\n",
       " '_196.jpg',\n",
       " '_197.jpg',\n",
       " '_198.jpg',\n",
       " '_199.jpg',\n",
       " '_2.jpg',\n",
       " '_20.jpg',\n",
       " '_200.jpg',\n",
       " '_201.jpg',\n",
       " '_202.jpg',\n",
       " '_203.jpg',\n",
       " '_204.jpg',\n",
       " '_205.jpg',\n",
       " '_206.jpg',\n",
       " '_207.jpg',\n",
       " '_208.jpg',\n",
       " '_209.jpg',\n",
       " '_21.jpg',\n",
       " '_210.jpg',\n",
       " '_211.jpg',\n",
       " '_212.jpg',\n",
       " '_213.jpg',\n",
       " '_214.jpg',\n",
       " '_215.jpg',\n",
       " '_216.jpg',\n",
       " '_217.jpg',\n",
       " '_218.jpg',\n",
       " '_219.jpg',\n",
       " '_22.jpg',\n",
       " '_220.jpg',\n",
       " '_221.jpg',\n",
       " '_222.jpg',\n",
       " '_223.jpg',\n",
       " '_224.jpg',\n",
       " '_225.jpg',\n",
       " '_226.jpg',\n",
       " '_227.jpg',\n",
       " '_228.jpg',\n",
       " '_229.jpg',\n",
       " '_23.jpg',\n",
       " '_230.jpg',\n",
       " '_231.jpg',\n",
       " '_232.jpg',\n",
       " '_233.jpg',\n",
       " '_234.jpg',\n",
       " '_235.jpg',\n",
       " '_236.jpg',\n",
       " '_237.jpg',\n",
       " '_238.jpg',\n",
       " '_239.jpg',\n",
       " '_24.jpg',\n",
       " '_240.jpg',\n",
       " '_241.jpg',\n",
       " '_242.jpg',\n",
       " '_243.jpg',\n",
       " '_244.jpg',\n",
       " '_245.jpg',\n",
       " '_246.jpg',\n",
       " '_247.jpg',\n",
       " '_248.jpg',\n",
       " '_249.jpg',\n",
       " '_25.jpg',\n",
       " '_250.jpg',\n",
       " '_251.jpg',\n",
       " '_252.jpg',\n",
       " '_253.jpg',\n",
       " '_254.jpg',\n",
       " '_255.jpg',\n",
       " '_256.jpg',\n",
       " '_257.jpg',\n",
       " '_258.jpg',\n",
       " '_259.jpg',\n",
       " '_26.jpg',\n",
       " '_260.jpg',\n",
       " '_261.jpg',\n",
       " '_262.jpg',\n",
       " '_263.jpg',\n",
       " '_264.jpg',\n",
       " '_265.jpg',\n",
       " '_266.jpg',\n",
       " '_267.jpg',\n",
       " '_268.jpg',\n",
       " '_269.jpg',\n",
       " '_27.jpg',\n",
       " '_270.jpg',\n",
       " '_271.jpg',\n",
       " '_272.jpg',\n",
       " '_273.jpg',\n",
       " '_274.jpg',\n",
       " '_275.jpg',\n",
       " '_276.jpg',\n",
       " '_277.jpg',\n",
       " '_278.jpg',\n",
       " '_279.jpg',\n",
       " '_28.jpg',\n",
       " '_280.jpg',\n",
       " '_281.jpg',\n",
       " '_282.jpg',\n",
       " '_283.jpg',\n",
       " '_284.jpg',\n",
       " '_285.jpg',\n",
       " '_286.jpg',\n",
       " '_287.jpg',\n",
       " '_288.jpg',\n",
       " '_289.jpg',\n",
       " '_29.jpg',\n",
       " '_290.jpg',\n",
       " '_291.jpg',\n",
       " '_292.jpg',\n",
       " '_293.jpg',\n",
       " '_294.jpg',\n",
       " '_295.jpg',\n",
       " '_296.jpg',\n",
       " '_297.jpg',\n",
       " '_298.jpg',\n",
       " '_299.jpg',\n",
       " '_3.jpg',\n",
       " '_30.jpg',\n",
       " '_300.jpg',\n",
       " '_301.jpg',\n",
       " '_302.jpg',\n",
       " '_303.jpg',\n",
       " '_304.jpg',\n",
       " '_305.jpg',\n",
       " '_306.jpg',\n",
       " '_307.jpg',\n",
       " '_308.jpg',\n",
       " '_309.jpg',\n",
       " '_31.jpg',\n",
       " '_310.jpg',\n",
       " '_311.jpg',\n",
       " '_312.jpg',\n",
       " '_313.jpg',\n",
       " '_314.jpg',\n",
       " '_315.jpg',\n",
       " '_316.jpg',\n",
       " '_317.jpg',\n",
       " '_318.jpg',\n",
       " '_319.jpg',\n",
       " '_32.jpg',\n",
       " '_320.jpg',\n",
       " '_321.jpg',\n",
       " '_322.jpg',\n",
       " '_323.jpg',\n",
       " '_324.jpg',\n",
       " '_325.jpg',\n",
       " '_326.jpg',\n",
       " '_327.jpg',\n",
       " '_328.jpg',\n",
       " '_329.jpg',\n",
       " '_33.jpg',\n",
       " '_330.jpg',\n",
       " '_331.jpg',\n",
       " '_332.jpg',\n",
       " '_333.jpg',\n",
       " '_334.jpg',\n",
       " '_335.jpg',\n",
       " '_336.jpg',\n",
       " '_337.jpg',\n",
       " '_338.jpg',\n",
       " '_339.jpg',\n",
       " '_34.jpg',\n",
       " '_340.jpg',\n",
       " '_341.jpg',\n",
       " '_342.jpg',\n",
       " '_343.jpg',\n",
       " '_344.jpg',\n",
       " '_345.jpg',\n",
       " '_346.jpg',\n",
       " '_347.jpg',\n",
       " '_348.jpg',\n",
       " '_349.jpg',\n",
       " '_35.jpg',\n",
       " '_350.jpg',\n",
       " '_351.jpg',\n",
       " '_352.jpg',\n",
       " '_353.jpg',\n",
       " '_354.jpg',\n",
       " '_355.jpg',\n",
       " '_356.jpg',\n",
       " '_357.jpg',\n",
       " '_358.jpg',\n",
       " '_359.jpg',\n",
       " '_36.jpg',\n",
       " '_360.jpg',\n",
       " '_361.jpg',\n",
       " '_362.jpg',\n",
       " '_363.jpg',\n",
       " '_364.jpg',\n",
       " '_365.jpg',\n",
       " '_366.jpg',\n",
       " '_367.jpg',\n",
       " '_368.jpg',\n",
       " '_369.jpg',\n",
       " '_37.jpg',\n",
       " '_370.jpg',\n",
       " '_371.jpg',\n",
       " '_372.jpg',\n",
       " '_373.jpg',\n",
       " '_374.jpg',\n",
       " '_375.jpg',\n",
       " '_376.jpg',\n",
       " '_377.jpg',\n",
       " '_378.jpg',\n",
       " '_379.jpg',\n",
       " '_38.jpg',\n",
       " '_380.jpg',\n",
       " '_381.jpg',\n",
       " '_382.jpg',\n",
       " '_383.jpg',\n",
       " '_384.jpg',\n",
       " '_385.jpg',\n",
       " '_386.jpg',\n",
       " '_387.jpg',\n",
       " '_388.jpg',\n",
       " '_389.jpg',\n",
       " '_39.jpg',\n",
       " '_390.jpg',\n",
       " '_391.jpg',\n",
       " '_392.jpg',\n",
       " '_393.jpg',\n",
       " '_394.jpg',\n",
       " '_395.jpg',\n",
       " '_396.jpg',\n",
       " '_397.jpg',\n",
       " '_398.jpg',\n",
       " '_399.jpg',\n",
       " '_4.jpg',\n",
       " '_40.jpg',\n",
       " '_400.jpg',\n",
       " '_401.jpg',\n",
       " '_402.jpg',\n",
       " '_403.jpg',\n",
       " '_404.jpg',\n",
       " '_405.jpg',\n",
       " '_406.jpg',\n",
       " '_407.jpg',\n",
       " '_408.jpg',\n",
       " '_409.jpg',\n",
       " '_41.jpg',\n",
       " '_410.jpg',\n",
       " '_411.jpg',\n",
       " '_412.jpg',\n",
       " '_413.jpg',\n",
       " '_414.jpg',\n",
       " '_415.jpg',\n",
       " '_416.jpg',\n",
       " '_417.jpg',\n",
       " '_418.jpg',\n",
       " '_419.jpg',\n",
       " '_42.jpg',\n",
       " '_420.jpg',\n",
       " '_421.jpg',\n",
       " '_422.jpg',\n",
       " '_423.jpg',\n",
       " '_424.jpg',\n",
       " '_425.jpg',\n",
       " '_426.jpg',\n",
       " '_427.jpg',\n",
       " '_428.jpg',\n",
       " '_429.jpg',\n",
       " '_43.jpg',\n",
       " '_430.jpg',\n",
       " '_431.jpg',\n",
       " '_432.jpg',\n",
       " '_433.jpg',\n",
       " '_434.jpg',\n",
       " '_435.jpg',\n",
       " '_436.jpg',\n",
       " '_437.jpg',\n",
       " '_438.jpg',\n",
       " '_439.jpg',\n",
       " '_44.jpg',\n",
       " '_440.jpg',\n",
       " '_441.jpg',\n",
       " '_442.jpg',\n",
       " '_443.jpg',\n",
       " '_444.jpg',\n",
       " '_445.jpg',\n",
       " '_446.jpg',\n",
       " '_447.jpg',\n",
       " '_448.jpg',\n",
       " '_449.jpg',\n",
       " '_45.jpg',\n",
       " '_450.jpg',\n",
       " '_451.jpg',\n",
       " '_452.jpg',\n",
       " '_453.jpg',\n",
       " '_454.jpg',\n",
       " '_455.jpg',\n",
       " '_456.jpg',\n",
       " '_457.jpg',\n",
       " '_458.jpg',\n",
       " '_459.jpg',\n",
       " '_46.jpg',\n",
       " '_460.jpg',\n",
       " '_461.jpg',\n",
       " '_462.jpg',\n",
       " '_463.jpg',\n",
       " '_464.jpg',\n",
       " '_465.jpg',\n",
       " '_466.jpg',\n",
       " '_467.jpg',\n",
       " '_468.jpg',\n",
       " '_469.jpg',\n",
       " '_47.jpg',\n",
       " '_470.jpg',\n",
       " '_471.jpg',\n",
       " '_472.jpg',\n",
       " '_473.jpg',\n",
       " '_474.jpg',\n",
       " '_475.jpg',\n",
       " '_476.jpg',\n",
       " '_477.jpg',\n",
       " '_478.jpg',\n",
       " '_479.jpg',\n",
       " '_48.jpg',\n",
       " '_480.jpg',\n",
       " '_481.jpg',\n",
       " '_482.jpg',\n",
       " '_483.jpg',\n",
       " '_484.jpg',\n",
       " '_485.jpg',\n",
       " '_486.jpg',\n",
       " '_487.jpg',\n",
       " '_488.jpg',\n",
       " '_489.jpg',\n",
       " '_49.jpg',\n",
       " '_490.jpg',\n",
       " '_491.jpg',\n",
       " '_492.jpg',\n",
       " '_493.jpg',\n",
       " '_494.jpg',\n",
       " '_495.jpg',\n",
       " '_496.jpg',\n",
       " '_497.jpg',\n",
       " '_498.jpg',\n",
       " '_499.jpg',\n",
       " '_5.jpg',\n",
       " '_50.jpg',\n",
       " '_500.jpg',\n",
       " '_501.jpg',\n",
       " '_502.jpg',\n",
       " '_503.jpg',\n",
       " '_504.jpg',\n",
       " '_505.jpg',\n",
       " '_506.jpg',\n",
       " '_507.jpg',\n",
       " '_508.jpg',\n",
       " '_509.jpg',\n",
       " '_51.jpg',\n",
       " '_510.jpg',\n",
       " '_511.jpg',\n",
       " '_512.jpg',\n",
       " '_513.jpg',\n",
       " '_514.jpg',\n",
       " '_515.jpg',\n",
       " '_516.jpg',\n",
       " '_517.jpg',\n",
       " '_518.jpg',\n",
       " '_519.jpg',\n",
       " '_52.jpg',\n",
       " '_520.jpg',\n",
       " '_521.jpg',\n",
       " '_522.jpg',\n",
       " '_523.jpg',\n",
       " '_524.jpg',\n",
       " '_525.jpg',\n",
       " '_526.jpg',\n",
       " '_527.jpg',\n",
       " '_528.jpg',\n",
       " '_529.jpg',\n",
       " '_53.jpg',\n",
       " '_530.jpg',\n",
       " '_531.jpg',\n",
       " '_532.jpg',\n",
       " '_533.jpg',\n",
       " '_534.jpg',\n",
       " '_535.jpg',\n",
       " '_536.jpg',\n",
       " '_537.jpg',\n",
       " '_538.jpg',\n",
       " '_539.jpg',\n",
       " '_54.jpg',\n",
       " '_540.jpg',\n",
       " '_541.jpg',\n",
       " '_542.jpg',\n",
       " '_543.jpg',\n",
       " '_544.jpg',\n",
       " '_545.jpg',\n",
       " '_546.jpg',\n",
       " '_547.jpg',\n",
       " '_548.jpg',\n",
       " '_549.jpg',\n",
       " '_55.jpg',\n",
       " '_550.jpg',\n",
       " '_551.jpg',\n",
       " '_552.jpg',\n",
       " '_553.jpg',\n",
       " '_554.jpg',\n",
       " '_555.jpg',\n",
       " '_556.jpg',\n",
       " '_557.jpg',\n",
       " '_558.jpg',\n",
       " '_559.jpg',\n",
       " '_56.jpg',\n",
       " '_560.jpg',\n",
       " '_561.jpg',\n",
       " '_562.jpg',\n",
       " '_563.jpg',\n",
       " '_564.jpg',\n",
       " '_565.jpg',\n",
       " '_566.jpg',\n",
       " '_567.jpg',\n",
       " '_568.jpg',\n",
       " '_569.jpg',\n",
       " '_57.jpg',\n",
       " '_570.jpg',\n",
       " '_571.jpg',\n",
       " '_572.jpg',\n",
       " '_573.jpg',\n",
       " '_574.jpg',\n",
       " '_575.jpg',\n",
       " '_576.jpg',\n",
       " '_577.jpg',\n",
       " '_578.jpg',\n",
       " '_579.jpg',\n",
       " '_58.jpg',\n",
       " '_580.jpg',\n",
       " '_581.jpg',\n",
       " '_582.jpg',\n",
       " '_583.jpg',\n",
       " '_584.jpg',\n",
       " '_585.jpg',\n",
       " '_586.jpg',\n",
       " '_587.jpg',\n",
       " '_588.jpg',\n",
       " '_589.jpg',\n",
       " '_59.jpg',\n",
       " '_590.jpg',\n",
       " '_591.jpg',\n",
       " '_592.jpg',\n",
       " '_593.jpg',\n",
       " '_594.jpg',\n",
       " '_595.jpg',\n",
       " '_596.jpg',\n",
       " '_597.jpg',\n",
       " '_598.jpg',\n",
       " '_599.jpg',\n",
       " '_6.jpg',\n",
       " '_60.jpg',\n",
       " '_600.jpg',\n",
       " '_601.jpg',\n",
       " '_602.jpg',\n",
       " '_603.jpg',\n",
       " '_604.jpg',\n",
       " '_605.jpg',\n",
       " '_606.jpg',\n",
       " '_607.jpg',\n",
       " '_608.jpg',\n",
       " '_609.jpg',\n",
       " '_61.jpg',\n",
       " '_610.jpg',\n",
       " '_611.jpg',\n",
       " '_612.jpg',\n",
       " '_613.jpg',\n",
       " '_614.jpg',\n",
       " '_615.jpg',\n",
       " '_616.jpg',\n",
       " '_617.jpg',\n",
       " '_618.jpg',\n",
       " '_619.jpg',\n",
       " '_62.jpg',\n",
       " '_620.jpg',\n",
       " '_621.jpg',\n",
       " '_622.jpg',\n",
       " '_623.jpg',\n",
       " '_624.jpg',\n",
       " '_625.jpg',\n",
       " '_626.jpg',\n",
       " '_627.jpg',\n",
       " '_628.jpg',\n",
       " '_629.jpg',\n",
       " '_63.jpg',\n",
       " '_630.jpg',\n",
       " '_631.jpg',\n",
       " '_632.jpg',\n",
       " '_633.jpg',\n",
       " '_634.jpg',\n",
       " '_635.jpg',\n",
       " '_636.jpg',\n",
       " '_637.jpg',\n",
       " '_638.jpg',\n",
       " '_639.jpg',\n",
       " '_64.jpg',\n",
       " '_640.jpg',\n",
       " '_641.jpg',\n",
       " '_642.jpg',\n",
       " '_643.jpg',\n",
       " '_644.jpg',\n",
       " '_645.jpg',\n",
       " '_646.jpg',\n",
       " '_647.jpg',\n",
       " '_648.jpg',\n",
       " '_649.jpg',\n",
       " '_65.jpg',\n",
       " '_650.jpg',\n",
       " '_651.jpg',\n",
       " '_652.jpg',\n",
       " '_653.jpg',\n",
       " '_654.jpg',\n",
       " '_655.jpg',\n",
       " '_656.jpg',\n",
       " '_657.jpg',\n",
       " '_658.jpg',\n",
       " '_659.jpg',\n",
       " '_66.jpg',\n",
       " '_660.jpg',\n",
       " '_661.jpg',\n",
       " '_662.jpg',\n",
       " '_663.jpg',\n",
       " '_664.jpg',\n",
       " '_665.jpg',\n",
       " '_666.jpg',\n",
       " '_667.jpg',\n",
       " '_668.jpg',\n",
       " '_669.jpg',\n",
       " '_67.jpg',\n",
       " '_670.jpg',\n",
       " '_671.jpg',\n",
       " '_672.jpg',\n",
       " '_673.jpg',\n",
       " '_674.jpg',\n",
       " '_675.jpg',\n",
       " '_676.jpg',\n",
       " '_677.jpg',\n",
       " '_678.jpg',\n",
       " '_679.jpg',\n",
       " '_68.jpg',\n",
       " '_680.jpg',\n",
       " '_681.jpg',\n",
       " '_682.jpg',\n",
       " '_683.jpg',\n",
       " '_684.jpg',\n",
       " '_685.jpg',\n",
       " '_686.jpg',\n",
       " '_687.jpg',\n",
       " '_688.jpg',\n",
       " '_689.jpg',\n",
       " '_69.jpg',\n",
       " '_690.jpg',\n",
       " '_691.jpg',\n",
       " '_692.jpg',\n",
       " '_693.jpg',\n",
       " '_694.jpg',\n",
       " '_695.jpg',\n",
       " '_696.jpg',\n",
       " '_697.jpg',\n",
       " '_698.jpg',\n",
       " '_699.jpg',\n",
       " '_7.jpg',\n",
       " '_70.jpg',\n",
       " '_700.jpg',\n",
       " '_701.jpg',\n",
       " '_702.jpg',\n",
       " '_703.jpg',\n",
       " '_704.jpg',\n",
       " '_705.jpg',\n",
       " '_706.jpg',\n",
       " '_707.jpg',\n",
       " '_708.jpg',\n",
       " '_709.jpg',\n",
       " '_71.jpg',\n",
       " '_710.jpg',\n",
       " '_711.jpg',\n",
       " '_712.jpg',\n",
       " '_713.jpg',\n",
       " '_714.jpg',\n",
       " '_715.jpg',\n",
       " '_716.jpg',\n",
       " '_717.jpg',\n",
       " '_718.jpg',\n",
       " '_719.jpg',\n",
       " '_72.jpg',\n",
       " '_720.jpg',\n",
       " '_721.jpg',\n",
       " '_722.jpg',\n",
       " '_723.jpg',\n",
       " '_724.jpg',\n",
       " '_725.jpg',\n",
       " '_73.jpg',\n",
       " '_74.jpg',\n",
       " '_75.jpg',\n",
       " '_76.jpg',\n",
       " '_77.jpg',\n",
       " '_78.jpg',\n",
       " '_79.jpg',\n",
       " '_8.jpg',\n",
       " '_80.jpg',\n",
       " '_81.jpg',\n",
       " '_82.jpg',\n",
       " '_83.jpg',\n",
       " '_84.jpg',\n",
       " '_85.jpg',\n",
       " '_86.jpg',\n",
       " '_87.jpg',\n",
       " '_88.jpg',\n",
       " '_89.jpg',\n",
       " '_9.jpg',\n",
       " '_90.jpg',\n",
       " '_91.jpg',\n",
       " '_92.jpg',\n",
       " '_93.jpg',\n",
       " '_94.jpg',\n",
       " '_95.jpg',\n",
       " '_96.jpg',\n",
       " '_97.jpg',\n",
       " '_98.jpg',\n",
       " '_99.jpg']"
      ]
     },
     "execution_count": 9,
     "metadata": {},
     "output_type": "execute_result"
    }
   ],
   "source": [
    "elements"
   ]
  },
  {
   "cell_type": "code",
   "execution_count": 11,
   "id": "1cc64525",
   "metadata": {},
   "outputs": [
    {
     "data": {
      "text/plain": [
       "<matplotlib.image.AxesImage at 0x19c08310490>"
      ]
     },
     "execution_count": 11,
     "metadata": {},
     "output_type": "execute_result"
    },
    {
     "data": {
      "image/png": "[encoded data removed]",
      "text/plain": [
       "<Figure size 640x480 with 1 Axes>"
      ]
     },
     "metadata": {},
     "output_type": "display_data"
    }
   ],
   "source": [
    "\n",
    "image = plt.imread(path_to_images+\"/Closed/_0.jpg\")\n",
    "plt.imshow(image)"
   ]
  },
  {
   "cell_type": "code",
   "execution_count": 34,
   "id": "e7e1aaa3",
   "metadata": {},
   "outputs": [
    {
     "data": {
      "text/plain": [
       "(145, 145, 3)"
      ]
     },
     "execution_count": 34,
     "metadata": {},
     "output_type": "execute_result"
    }
   ],
   "source": [
    "image.shape"
   ]
  },
  {
   "cell_type": "code",
   "execution_count": 12,
   "id": "7d5548fd",
   "metadata": {},
   "outputs": [],
   "source": [
    "datasets = os.path.join(os.getcwd(),'archive/train')"
   ]
  },
  {
   "cell_type": "code",
   "execution_count": 13,
   "id": "8da7eb4d",
   "metadata": {},
   "outputs": [
    {
     "data": {
      "text/plain": [
       "'C:\\\\Users\\\\perei\\\\OneDrive\\\\Área de Trabalho\\\\visao-computacional\\\\modelo close-open\\\\archive/train'"
      ]
     },
     "execution_count": 13,
     "metadata": {},
     "output_type": "execute_result"
    }
   ],
   "source": [
    "datasets"
   ]
  },
  {
   "cell_type": "code",
   "execution_count": 14,
   "id": "519b6f17",
   "metadata": {},
   "outputs": [
    {
     "data": {
      "text/plain": [
       "['Closed', 'Open']"
      ]
     },
     "execution_count": 14,
     "metadata": {},
     "output_type": "execute_result"
    }
   ],
   "source": [
    "labels"
   ]
  },
  {
   "cell_type": "code",
   "execution_count": 15,
   "id": "327bf7b7",
   "metadata": {},
   "outputs": [],
   "source": [
    "#variaveis para tratamento de imagens\n",
    "img_width = 160 #valor arbitrario\n",
    "img_heigth = 160 #valor arbitrario\n",
    "img_color_channel = 3\n",
    "img_color_channel_size = 255\n",
    "img_size = (img_width, img_heigth)\n",
    "img_shape = img_size + (img_color_channel,)\n",
    "\n",
    "\n",
    "##variaveis usados no treinamento\n",
    "batch_size = 32 #quantidade de features trazidas por vez do dataset\n",
    "epochs = 5 #numeor de vezez que o dataset será percorrido\n",
    "            #por uma questão de limitação de hardware vamos manter 5\n",
    "learning_rate = 0.0001 #taxa e aprendizagem\n",
    "\n",
    "class_name = labels #problema de classificação\n",
    "#como não queremos ver um numero ao final do processo defimos\n",
    "#0-yawn\n",
    "#1-no_yawn\n",
    "#2-Closed\n",
    "#3-Open"
   ]
  },
  {
   "cell_type": "code",
   "execution_count": 16,
   "id": "cb109d47",
   "metadata": {},
   "outputs": [],
   "source": [
    "dataset_Closed_len = len(os.listdir(os.path.join(datasets,'Closed')))\n",
    "dataset_Open_len = len(os.listdir(os.path.join(datasets,'Open')))"
   ]
  },
  {
   "cell_type": "code",
   "execution_count": 17,
   "id": "819f0a48",
   "metadata": {},
   "outputs": [
    {
     "name": "stdout",
     "output_type": "stream",
     "text": [
      "Train closed 726\n",
      "Train open 726\n"
     ]
    }
   ],
   "source": [
    "print('Train closed %s' % dataset_Closed_len)\n",
    "print('Train open %s' % dataset_Open_len)"
   ]
  },
  {
   "cell_type": "code",
   "execution_count": null,
   "id": "8b2eb024",
   "metadata": {},
   "outputs": [],
   "source": []
  },
  {
   "cell_type": "code",
   "execution_count": 30,
   "id": "bde1bf1a",
   "metadata": {},
   "outputs": [],
   "source": [
    "def gen_data():\n",
    "    labels = ['Closed', 'Open']\n",
    "    IMG_SIZE = 145\n",
    "    data = []\n",
    "    for label in labels:\n",
    "        path = os.path.join(path_to_images, label)\n",
    "        class_num = labels.index(label)\n",
    "        print(class_num)\n",
    "        for img in os.listdir(path):\n",
    "            try:\n",
    "                img_array = cv2.imread(os.path.join(path, img), cv2.IMREAD_COLOR)\n",
    "                resized_array = cv2.resize(img_array, (IMG_SIZE, IMG_SIZE))\n",
    "                data.append([resized_array, class_num])\n",
    "            except Exception as e:\n",
    "                print(e)\n",
    "    return np.array(data, dtype=object)"
   ]
  },
  {
   "cell_type": "code",
   "execution_count": 31,
   "id": "806eb2b2",
   "metadata": {},
   "outputs": [
    {
     "name": "stdout",
     "output_type": "stream",
     "text": [
      "0\n",
      "1\n"
     ]
    }
   ],
   "source": [
    "data_train = gen_data()"
   ]
  },
  {
   "cell_type": "code",
   "execution_count": 34,
   "id": "3483b8a3",
   "metadata": {},
   "outputs": [],
   "source": [
    "X = []\n",
    "y = []\n",
    "for feature, label in data_train:\n",
    "    X.append(feature)\n",
    "    y.append(label)"
   ]
  },
  {
   "cell_type": "code",
   "execution_count": 35,
   "id": "08e15d57",
   "metadata": {},
   "outputs": [],
   "source": [
    "X = np.array(X)\n",
    "X = X.reshape(-1, 145, 145, 3)"
   ]
  },
  {
   "cell_type": "code",
   "execution_count": 36,
   "id": "66fd6c9d",
   "metadata": {},
   "outputs": [
    {
     "data": {
      "text/plain": [
       "(1452, 145, 145, 3)"
      ]
     },
     "execution_count": 36,
     "metadata": {},
     "output_type": "execute_result"
    }
   ],
   "source": [
    "X.shape"
   ]
  },
  {
   "cell_type": "code",
   "execution_count": null,
   "id": "245b7a4b",
   "metadata": {},
   "outputs": [],
   "source": [
    "#Poderia usar o onehot encoding, mas, seria melhor usar em um problemas de linguagem natural"
   ]
  },
  {
   "cell_type": "code",
   "execution_count": null,
   "id": "cad84b92",
   "metadata": {},
   "outputs": [],
   "source": [
    "\"\"\"\n",
    "Vários algoritmos de regressão e classificação binária estão disponíveis no scikit-learn.\n",
    "Uma maneira simples de estender esses algoritmos para o caso de classificação multiclasse\n",
    "é usar o chamado esquema um contra todos.\n",
    "Na hora de aprender, isso consiste simplesmente em aprender um regressor ou classificador binário por classe.\n",
    "Ao fazer isso, é necessário converter rótulos multiclasse em rótulos binários (pertencem ou não à classe).\n",
    "LabelBinarizerfacilita esse processo com o método transform.\n",
    "\n",
    "\n",
    "https://scikit-learn.org/stable/modules/generated/sklearn.preprocessing.LabelBinarizer.html\n",
    "\"\"\""
   ]
  },
  {
   "cell_type": "code",
   "execution_count": 37,
   "id": "0b4ed862",
   "metadata": {},
   "outputs": [],
   "source": [
    "label_bin = LabelBinarizer()\n",
    "y = label_bin.fit_transform(y)"
   ]
  },
  {
   "cell_type": "code",
   "execution_count": 38,
   "id": "047f57ee",
   "metadata": {},
   "outputs": [],
   "source": [
    "y = np.array(y)"
   ]
  },
  {
   "cell_type": "code",
   "execution_count": 39,
   "id": "9809bc36",
   "metadata": {},
   "outputs": [
    {
     "data": {
      "text/plain": [
       "(1452, 1)"
      ]
     },
     "execution_count": 39,
     "metadata": {},
     "output_type": "execute_result"
    }
   ],
   "source": [
    "y.shape"
   ]
  },
  {
   "cell_type": "code",
   "execution_count": 40,
   "id": "c1e6b78d",
   "metadata": {},
   "outputs": [
    {
     "data": {
      "text/plain": [
       "array([[0],\n",
       "       [0],\n",
       "       [0],\n",
       "       ...,\n",
       "       [1],\n",
       "       [1],\n",
       "       [1]])"
      ]
     },
     "execution_count": 40,
     "metadata": {},
     "output_type": "execute_result"
    }
   ],
   "source": [
    "y"
   ]
  },
  {
   "cell_type": "code",
   "execution_count": 57,
   "id": "5cea3e4b",
   "metadata": {},
   "outputs": [],
   "source": [
    "#divisão de dados de treino e testes"
   ]
  },
  {
   "cell_type": "code",
   "execution_count": 41,
   "id": "1b7dd871",
   "metadata": {},
   "outputs": [],
   "source": [
    "seed = 42\n",
    "test_size = 0.30\n",
    "X_train, X_test, y_train, y_test = train_test_split(X, y, random_state=seed, test_size=test_size)"
   ]
  },
  {
   "cell_type": "code",
   "execution_count": null,
   "id": "f2658c0a",
   "metadata": {},
   "outputs": [],
   "source": []
  },
  {
   "cell_type": "code",
   "execution_count": 42,
   "id": "0a2dd687",
   "metadata": {},
   "outputs": [
    {
     "data": {
      "text/plain": [
       "436"
      ]
     },
     "execution_count": 42,
     "metadata": {},
     "output_type": "execute_result"
    }
   ],
   "source": [
    "len(X_test)"
   ]
  },
  {
   "cell_type": "code",
   "execution_count": 60,
   "id": "d99b0092",
   "metadata": {},
   "outputs": [],
   "source": []
  },
  {
   "cell_type": "code",
   "execution_count": 43,
   "id": "e3a03ef0",
   "metadata": {},
   "outputs": [],
   "source": [
    "#aplicando data_augmentation -> o modelo incial sofreu overfitting\n",
    "#fazendo isso podemos aumentar o numero de features sem necessariamente conseguir novas features\n",
    "#isso ira fazer o modelo olhar diferentes imagens a cadas vez que for treinado\n",
    "#no primeiro caso tivemos overfitting, por essa razão estamos usando essa camada agora\n",
    "\n",
    "#conceito de fature enginner aplicado a um modelo de classificação de imagens"
   ]
  },
  {
   "cell_type": "code",
   "execution_count": 44,
   "id": "5dac4900",
   "metadata": {},
   "outputs": [],
   "source": [
    "gen_train = ImageDataGenerator(rescale=1/255, zoom_range=0.3, horizontal_flip=True, rotation_range=45)\n",
    "gen_test = ImageDataGenerator(rescale=1/255)\n",
    "\n",
    "gen_train = gen_train.flow(np.array(X_train), y_train, shuffle=False)#manter shuffle false\n",
    "gen_test = gen_test.flow(np.array(X_test), y_test, shuffle=False)#manter shuffle false"
   ]
  },
  {
   "cell_type": "code",
   "execution_count": 45,
   "id": "2d4cbfa3",
   "metadata": {},
   "outputs": [
    {
     "data": {
      "text/plain": [
       "(32, 14, 32, 14)"
      ]
     },
     "execution_count": 45,
     "metadata": {},
     "output_type": "execute_result"
    }
   ],
   "source": [
    "len(gen_train),len(gen_test),len(gen_train),len(gen_test)"
   ]
  },
  {
   "cell_type": "code",
   "execution_count": 71,
   "id": "acb8e045",
   "metadata": {},
   "outputs": [],
   "source": [
    "#não está mais sendo utilizado esse trecho abaixo ;)"
   ]
  },
  {
   "cell_type": "code",
   "execution_count": 73,
   "id": "48ac71ab",
   "metadata": {},
   "outputs": [],
   "source": [
    "#criando modelo com uma rede neural convulacional\n",
    "#modelo sequencial em camadas\n",
    "\n",
    "\n",
    "# model = tf.keras.models.Sequential([\n",
    "#     #aplica rescaling da imagen (160,160, 3)\n",
    "#     #não queremos que os valores vão de 0 a 255, apenas de 0 a 3\n",
    "#     #isso é chamado de normalização de valores\n",
    "#     tf.keras.layers.Rescaling(\n",
    "#         1. /img_color_channel_size,\n",
    "#         input_shape = img_shape\n",
    "#     ),\n",
    "#     #filters,kernel_size,paddingactivation\n",
    "#     #activation-> função de ativação\n",
    "#     #funções de ativaçoes disponivel em  https://www.tensorflow.org/api_docs/python/tf/keras/activations\n",
    "#     #função relu aplica a função de ativação da unidade linear retificada. Mehlor no entendimento desse caso\n",
    "#     #função relu zera valores negativos e parmanece os positivos\n",
    "#     #camada convulacional de tamanho 16,\n",
    "#     #essa camada será passada 16x, com kernel de tamanho 3\n",
    "#     tf.keras.layers.Conv2D(16,3, padding='same',activation='relu'),\n",
    "#     #dados dispostos bidemensionalmente\n",
    "#     tf.keras.layers.MaxPooling2D(),\n",
    "#     tf.keras.layers.Conv2D(64,3, padding='same',activation='relu'),\n",
    "#     tf.keras.layers.MaxPooling2D(),\n",
    "#     tf.keras.layers.Conv2D(64,3, padding='same',activation='relu'),\n",
    "#     tf.keras.layers.MaxPooling2D(),\n",
    "#     #Achata a entrada.\n",
    "#     #aplica algoritmo de \"achatamento\"\n",
    "#     tf.keras.layers.Flatten(),\n",
    "#     #input -> inteiro,acvation function\n",
    "#     #input -> dimensionalidade do espaço d esaida do modelo treinado\n",
    "#     tf.keras.layers.Dense(128, activation='relu'),\n",
    "#     #queremos apenas um valor de saida do nosso modelo por isso aplicamos 1 ao alor de input\n",
    "#     #sigmoid ela retorna um valor entre -1 e 1\n",
    "#     tf.keras.layers.Dropout(0.2), #o modleo inicial sofreu overfiting,\n",
    "#                                  #essa camada garatira que nem todos os neuronios serão usadoas\n",
    "#     tf.keras.layers.Dense(1, activation='sigmoid')#ativação sigmoidal, sigmoid(x) = 1 / (1 + exp(-x)).\n",
    "# ])"
   ]
  },
  {
   "cell_type": "code",
   "execution_count": null,
   "id": "fddb3bc9",
   "metadata": {},
   "outputs": [],
   "source": []
  },
  {
   "cell_type": "code",
   "execution_count": 54,
   "id": "41ac4237",
   "metadata": {},
   "outputs": [
    {
     "name": "stdout",
     "output_type": "stream",
     "text": [
      "Model: \"sequential_3\"\n",
      "_________________________________________________________________\n",
      " Layer (type)                Output Shape              Param #   \n",
      "=================================================================\n",
      " conv2d_12 (Conv2D)          (None, 143, 143, 256)     7168      \n",
      "                                                                 \n",
      " max_pooling2d_12 (MaxPoolin  (None, 71, 71, 256)      0         \n",
      " g2D)                                                            \n",
      "                                                                 \n",
      " conv2d_13 (Conv2D)          (None, 69, 69, 128)       295040    \n",
      "                                                                 \n",
      " max_pooling2d_13 (MaxPoolin  (None, 34, 34, 128)      0         \n",
      " g2D)                                                            \n",
      "                                                                 \n",
      " conv2d_14 (Conv2D)          (None, 32, 32, 64)        73792     \n",
      "                                                                 \n",
      " max_pooling2d_14 (MaxPoolin  (None, 16, 16, 64)       0         \n",
      " g2D)                                                            \n",
      "                                                                 \n",
      " conv2d_15 (Conv2D)          (None, 14, 14, 32)        18464     \n",
      "                                                                 \n",
      " max_pooling2d_15 (MaxPoolin  (None, 7, 7, 32)         0         \n",
      " g2D)                                                            \n",
      "                                                                 \n",
      " flatten_3 (Flatten)         (None, 1568)              0         \n",
      "                                                                 \n",
      " dropout_3 (Dropout)         (None, 1568)              0         \n",
      "                                                                 \n",
      " dense_6 (Dense)             (None, 64)                100416    \n",
      "                                                                 \n",
      " dense_7 (Dense)             (None, 2)                 130       \n",
      "                                                                 \n",
      "=================================================================\n",
      "Total params: 495,010\n",
      "Trainable params: 495,010\n",
      "Non-trainable params: 0\n",
      "_________________________________________________________________\n"
     ]
    }
   ],
   "source": [
    "model = Sequential()\n",
    "\n",
    "model.add(Conv2D(256, (3, 3), activation=\"relu\", input_shape=X_train.shape[1:]))\n",
    "model.add(MaxPooling2D(2, 2))\n",
    "\n",
    "model.add(Conv2D(128, (3, 3), activation=\"relu\"))\n",
    "model.add(MaxPooling2D(2, 2))\n",
    "\n",
    "model.add(Conv2D(64, (3, 3), activation=\"relu\"))\n",
    "model.add(MaxPooling2D(2, 2))\n",
    "\n",
    "model.add(Conv2D(32, (3, 3), activation=\"relu\"))\n",
    "model.add(MaxPooling2D(2, 2))\n",
    "\n",
    "model.add(Flatten())\n",
    "model.add(Dropout(0.5))\n",
    "\n",
    "model.add(Dense(64, activation=\"relu\"))\n",
    "model.add(Dense(2, activation=\"softmax\"))\n",
    "\n",
    "model.compile(loss=\"sparse_categorical_crossentropy\", metrics=[\"accuracy\"], optimizer=\"adam\")\n",
    "\n",
    "model.summary()"
   ]
  },
  {
   "cell_type": "code",
   "execution_count": null,
   "id": "57127a80",
   "metadata": {},
   "outputs": [],
   "source": []
  },
  {
   "cell_type": "code",
   "execution_count": 55,
   "id": "67b35377",
   "metadata": {},
   "outputs": [
    {
     "name": "stdout",
     "output_type": "stream",
     "text": [
      "Epoch 1/50\n",
      "32/32 [==============================] - 236s 7s/step - loss: 0.5667 - accuracy: 0.3671 - val_loss: 0.2258 - val_accuracy: 0.4610\n",
      "Epoch 2/50\n",
      "32/32 [==============================] - 387s 11s/step - loss: 0.2929 - accuracy: 0.5020 - val_loss: 0.1997 - val_accuracy: 0.4885\n",
      "Epoch 3/50\n",
      "32/32 [==============================] - 406s 13s/step - loss: 0.2091 - accuracy: 0.5049 - val_loss: 0.1745 - val_accuracy: 0.5619\n",
      "Epoch 4/50\n",
      "32/32 [==============================] - 375s 12s/step - loss: 0.2284 - accuracy: 0.5217 - val_loss: 0.1690 - val_accuracy: 0.4794\n",
      "Epoch 5/50\n",
      "32/32 [==============================] - 362s 11s/step - loss: 0.1790 - accuracy: 0.5010 - val_loss: 0.1583 - val_accuracy: 0.4656\n",
      "Epoch 6/50\n",
      "32/32 [==============================] - 373s 11s/step - loss: 0.1670 - accuracy: 0.5039 - val_loss: 0.1057 - val_accuracy: 0.5115\n",
      "Epoch 7/50\n",
      "32/32 [==============================] - 370s 12s/step - loss: 0.1690 - accuracy: 0.5098 - val_loss: 0.1242 - val_accuracy: 0.5092\n",
      "Epoch 8/50\n",
      "32/32 [==============================] - 352s 11s/step - loss: 0.1452 - accuracy: 0.5098 - val_loss: 0.1157 - val_accuracy: 0.5206\n",
      "Epoch 9/50\n",
      "32/32 [==============================] - 351s 11s/step - loss: 0.1520 - accuracy: 0.5069 - val_loss: 0.1032 - val_accuracy: 0.5069\n",
      "Epoch 10/50\n",
      "32/32 [==============================] - 374s 12s/step - loss: 0.1210 - accuracy: 0.4970 - val_loss: 0.0956 - val_accuracy: 0.5069\n",
      "Epoch 11/50\n",
      "32/32 [==============================] - 362s 11s/step - loss: 0.1307 - accuracy: 0.5010 - val_loss: 0.1289 - val_accuracy: 0.4885\n",
      "Epoch 12/50\n",
      "32/32 [==============================] - 335s 10s/step - loss: 0.1255 - accuracy: 0.5020 - val_loss: 0.0845 - val_accuracy: 0.5138\n",
      "Epoch 13/50\n",
      "32/32 [==============================] - 370s 12s/step - loss: 0.1163 - accuracy: 0.4980 - val_loss: 0.0848 - val_accuracy: 0.4977\n",
      "Epoch 14/50\n",
      "32/32 [==============================] - 357s 11s/step - loss: 0.1041 - accuracy: 0.5010 - val_loss: 0.0859 - val_accuracy: 0.5321\n",
      "Epoch 15/50\n",
      "32/32 [==============================] - 355s 11s/step - loss: 0.0923 - accuracy: 0.4951 - val_loss: 0.0720 - val_accuracy: 0.5275\n",
      "Epoch 16/50\n",
      "32/32 [==============================] - 353s 11s/step - loss: 0.1109 - accuracy: 0.4961 - val_loss: 0.0585 - val_accuracy: 0.5115\n",
      "Epoch 17/50\n",
      "32/32 [==============================] - 357s 11s/step - loss: 0.0868 - accuracy: 0.5039 - val_loss: 0.0803 - val_accuracy: 0.4885\n",
      "Epoch 18/50\n",
      "32/32 [==============================] - 263s 8s/step - loss: 0.1082 - accuracy: 0.4892 - val_loss: 0.0596 - val_accuracy: 0.5206\n",
      "Epoch 19/50\n",
      "32/32 [==============================] - 184s 6s/step - loss: 0.0963 - accuracy: 0.5010 - val_loss: 0.0914 - val_accuracy: 0.4702\n",
      "Epoch 20/50\n",
      "32/32 [==============================] - 182s 6s/step - loss: 0.0859 - accuracy: 0.4951 - val_loss: 0.0732 - val_accuracy: 0.4885\n",
      "Epoch 21/50\n",
      "32/32 [==============================] - 182s 6s/step - loss: 0.0920 - accuracy: 0.4951 - val_loss: 0.0655 - val_accuracy: 0.5023\n",
      "Epoch 22/50\n",
      "32/32 [==============================] - 182s 6s/step - loss: 0.0627 - accuracy: 0.4931 - val_loss: 0.0510 - val_accuracy: 0.5046\n",
      "Epoch 23/50\n",
      "32/32 [==============================] - 180s 6s/step - loss: 0.0834 - accuracy: 0.4961 - val_loss: 0.0582 - val_accuracy: 0.5000\n",
      "Epoch 24/50\n",
      "32/32 [==============================] - 182s 6s/step - loss: 0.0908 - accuracy: 0.4980 - val_loss: 0.1189 - val_accuracy: 0.4702\n",
      "Epoch 25/50\n",
      "32/32 [==============================] - 180s 6s/step - loss: 0.0767 - accuracy: 0.4872 - val_loss: 0.0821 - val_accuracy: 0.4954\n",
      "Epoch 26/50\n",
      "32/32 [==============================] - 180s 6s/step - loss: 0.0814 - accuracy: 0.5000 - val_loss: 0.0668 - val_accuracy: 0.5229\n",
      "Epoch 27/50\n",
      "32/32 [==============================] - 182s 6s/step - loss: 0.0908 - accuracy: 0.4921 - val_loss: 0.0658 - val_accuracy: 0.5069\n",
      "Epoch 28/50\n",
      "32/32 [==============================] - 179s 6s/step - loss: 0.0898 - accuracy: 0.5039 - val_loss: 0.0620 - val_accuracy: 0.5183\n",
      "Epoch 29/50\n",
      "32/32 [==============================] - 182s 6s/step - loss: 0.0771 - accuracy: 0.4921 - val_loss: 0.0666 - val_accuracy: 0.5069\n",
      "Epoch 30/50\n",
      "32/32 [==============================] - 181s 6s/step - loss: 0.0773 - accuracy: 0.5030 - val_loss: 0.0901 - val_accuracy: 0.4839\n",
      "Epoch 31/50\n",
      "32/32 [==============================] - 181s 6s/step - loss: 0.0772 - accuracy: 0.4941 - val_loss: 0.0519 - val_accuracy: 0.5252\n",
      "Epoch 32/50\n",
      "32/32 [==============================] - 182s 6s/step - loss: 0.0835 - accuracy: 0.5010 - val_loss: 0.0641 - val_accuracy: 0.4977\n",
      "Epoch 33/50\n",
      "32/32 [==============================] - 181s 6s/step - loss: 0.0698 - accuracy: 0.4951 - val_loss: 0.0474 - val_accuracy: 0.5023\n",
      "Epoch 34/50\n",
      "32/32 [==============================] - 183s 6s/step - loss: 0.0593 - accuracy: 0.5010 - val_loss: 0.0548 - val_accuracy: 0.5069\n",
      "Epoch 35/50\n",
      "32/32 [==============================] - 181s 6s/step - loss: 0.0706 - accuracy: 0.4951 - val_loss: 0.0645 - val_accuracy: 0.5000\n",
      "Epoch 36/50\n",
      "32/32 [==============================] - 181s 6s/step - loss: 0.0624 - accuracy: 0.5000 - val_loss: 0.0626 - val_accuracy: 0.4954\n",
      "Epoch 37/50\n",
      "32/32 [==============================] - 180s 6s/step - loss: 0.0731 - accuracy: 0.4990 - val_loss: 0.0436 - val_accuracy: 0.5000\n",
      "Epoch 38/50\n",
      "32/32 [==============================] - 183s 6s/step - loss: 0.0397 - accuracy: 0.4951 - val_loss: 0.0520 - val_accuracy: 0.5069\n",
      "Epoch 39/50\n",
      "32/32 [==============================] - 185s 6s/step - loss: 0.0705 - accuracy: 0.4931 - val_loss: 0.0478 - val_accuracy: 0.5023\n",
      "Epoch 40/50\n",
      "32/32 [==============================] - 181s 6s/step - loss: 0.0746 - accuracy: 0.4980 - val_loss: 0.0492 - val_accuracy: 0.5046\n",
      "Epoch 41/50\n",
      "32/32 [==============================] - 181s 6s/step - loss: 0.0550 - accuracy: 0.4951 - val_loss: 0.0511 - val_accuracy: 0.5229\n",
      "Epoch 42/50\n",
      "32/32 [==============================] - 181s 6s/step - loss: 0.0512 - accuracy: 0.4941 - val_loss: 0.0367 - val_accuracy: 0.5069\n",
      "Epoch 43/50\n",
      "32/32 [==============================] - 182s 6s/step - loss: 0.0407 - accuracy: 0.4980 - val_loss: 0.0338 - val_accuracy: 0.5000\n",
      "Epoch 44/50\n",
      "32/32 [==============================] - 180s 6s/step - loss: 0.0466 - accuracy: 0.4961 - val_loss: 0.0326 - val_accuracy: 0.5023\n",
      "Epoch 45/50\n",
      "32/32 [==============================] - 180s 6s/step - loss: 0.0302 - accuracy: 0.4961 - val_loss: 0.0321 - val_accuracy: 0.5092\n",
      "Epoch 46/50\n",
      "32/32 [==============================] - 182s 6s/step - loss: 0.0582 - accuracy: 0.4931 - val_loss: 0.0352 - val_accuracy: 0.5069\n",
      "Epoch 47/50\n",
      "32/32 [==============================] - 183s 6s/step - loss: 0.0587 - accuracy: 0.4970 - val_loss: 0.0339 - val_accuracy: 0.5206\n",
      "Epoch 48/50\n",
      "32/32 [==============================] - 182s 6s/step - loss: 0.0492 - accuracy: 0.4941 - val_loss: 0.0359 - val_accuracy: 0.5000\n",
      "Epoch 49/50\n",
      "32/32 [==============================] - 180s 6s/step - loss: 0.0430 - accuracy: 0.4921 - val_loss: 0.0292 - val_accuracy: 0.5069\n",
      "Epoch 50/50\n",
      "32/32 [==============================] - 179s 6s/step - loss: 0.0709 - accuracy: 0.5030 - val_loss: 0.0443 - val_accuracy: 0.5000\n"
     ]
    }
   ],
   "source": [
    "initial_time = time.time()\n",
    "\n",
    "history = model.fit(gen_train, epochs=50, validation_data=gen_test, shuffle=True, validation_steps=len(gen_test))\n",
    "\n",
    "final_time = time.time()"
   ]
  },
  {
   "cell_type": "code",
   "execution_count": 56,
   "id": "55321684",
   "metadata": {},
   "outputs": [
    {
     "name": "stdout",
     "output_type": "stream",
     "text": [
      "Tempo total de treinamento: 3.3813989126682285 horas\n"
     ]
    }
   ],
   "source": [
    "total_time = final_time - initial_time\n",
    "print(f\"Tempo total de treinamento: {(total_time/60)/60} horas\")"
   ]
  },
  {
   "cell_type": "code",
   "execution_count": 57,
   "id": "6c9efdc5",
   "metadata": {},
   "outputs": [
    {
     "data": {
      "image/png": "[encoded data removed]",
      "text/plain": [
       "<Figure size 640x480 with 1 Axes>"
      ]
     },
     "metadata": {},
     "output_type": "display_data"
    },
    {
     "data": {
      "image/png": "[encoded data removed]",
      "text/plain": [
       "<Figure size 640x480 with 1 Axes>"
      ]
     },
     "metadata": {},
     "output_type": "display_data"
    }
   ],
   "source": [
    "accuracy = history.history['accuracy']\n",
    "val_accuracy = history.history['val_accuracy']\n",
    "loss = history.history['loss']\n",
    "val_loss = history.history['val_loss']\n",
    "epochs = range(len(accuracy))\n",
    "\n",
    "plt.plot(epochs, accuracy, \"b\", label=\"trainning accuracy\")\n",
    "plt.plot(epochs, val_accuracy, \"r\", label=\"validation accuracy\")\n",
    "plt.legend()\n",
    "plt.show()\n",
    "\n",
    "plt.plot(epochs, loss, \"b\", label=\"trainning loss\")\n",
    "plt.plot(epochs, val_loss, \"r\", label=\"validation loss\")\n",
    "plt.legend()\n",
    "plt.show()"
   ]
  },
  {
   "cell_type": "code",
   "execution_count": 58,
   "id": "22c9933c",
   "metadata": {},
   "outputs": [
    {
     "name": "stdout",
     "output_type": "stream",
     "text": [
      "14/14 [==============================] - 17s 1s/step\n"
     ]
    }
   ],
   "source": [
    "prediction = model.predict(X_test)"
   ]
  },
  {
   "cell_type": "code",
   "execution_count": 59,
   "id": "92367868",
   "metadata": {},
   "outputs": [
    {
     "name": "stdout",
     "output_type": "stream",
     "text": [
      "Test loss: 12.569815635681152\n",
      "Test accuracy: 0.4747706353664398\n"
     ]
    }
   ],
   "source": [
    "score = model.evaluate(X_test, y_test, verbose=0)\n",
    "print('Test loss:', score[0])\n",
    "print('Test accuracy:', score[1])"
   ]
  },
  {
   "cell_type": "code",
   "execution_count": 56,
   "id": "38849106",
   "metadata": {},
   "outputs": [],
   "source": [
    "model.save(\"prediction_open_close.h5\")"
   ]
  }
 ],
 "metadata": {
  "kernelspec": {
   "display_name": "Python 3 (ipykernel)",
   "language": "python",
   "name": "python3"
  },
  "language_info": {
   "codemirror_mode": {
    "name": "ipython",
    "version": 3
   },
   "file_extension": ".py",
   "mimetype": "text/x-python",
   "name": "python",
   "nbconvert_exporter": "python",
   "pygments_lexer": "ipython3",
   "version": "3.11.4"
  }
 },
 "nbformat": 4,
 "nbformat_minor": 5
}
